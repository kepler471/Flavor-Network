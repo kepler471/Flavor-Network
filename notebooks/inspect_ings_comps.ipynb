{
 "cells": [
  {
   "cell_type": "markdown",
   "metadata": {
    "collapsed": true,
    "pycharm": {
     "name": "#%% md\n"
    }
   },
   "source": [
    "# Ingredients and compounds analysis"
   ]
  },
  {
   "cell_type": "markdown",
   "source": [
    "In this notebook I would like to:\n",
    "\n",
    "- Look at the total number of ingredients\n",
    "- Look at the total number of compounds\n",
    "- Look at a distribution of how many compounds each ingredient has\n",
    "- Look at any ingredients without compounds?"
   ],
   "metadata": {
    "collapsed": false
   }
  },
  {
   "cell_type": "code",
   "execution_count": 16,
   "outputs": [],
   "source": [
    "import pandas as pd\n",
    "import os"
   ],
   "metadata": {
    "collapsed": false,
    "pycharm": {
     "name": "#%%\n",
     "is_executing": false
    }
   }
  },
  {
   "cell_type": "code",
   "execution_count": 17,
   "outputs": [],
   "source": [
    "# Load in the data\n",
    "\n",
    "file_dir = os.path.dirname(os.path.abspath(\"\"))\n",
    "data_dir = os.path.join(file_dir, 'data/')\n",
    "comp_info = pd.read_csv(data_dir + 'comp_info.tsv', sep='\\t', header=0, index_col=0)\n",
    "ingr_info = pd.read_csv(data_dir + 'ingr_info.tsv', sep='\\t', header=0, index_col=0)\n",
    "ingr_comp = pd.read_csv(data_dir + 'ingr_comp.tsv', sep='\\t', header=0)"
   ],
   "metadata": {
    "collapsed": false,
    "pycharm": {
     "name": "#%%\n",
     "is_executing": false
    }
   }
  },
  {
   "cell_type": "code",
   "execution_count": 18,
   "outputs": [
    {
     "data": {
      "text/plain": "                              Compound name CAS number\n# id                                                  \n0                                   jasmone   488-10-8\n1                     5-methylhexanoic_acid   628-46-6\n2                               l-glutamine    56-85-9\n3     1-methyl-3-methoxy-4-isopropylbenzene  1076-56-8\n4                 methyl-3-phenylpropionate   103-25-3",
      "text/html": "<div>\n<style scoped>\n    .dataframe tbody tr th:only-of-type {\n        vertical-align: middle;\n    }\n\n    .dataframe tbody tr th {\n        vertical-align: top;\n    }\n\n    .dataframe thead th {\n        text-align: right;\n    }\n</style>\n<table border=\"1\" class=\"dataframe\">\n  <thead>\n    <tr style=\"text-align: right;\">\n      <th></th>\n      <th>Compound name</th>\n      <th>CAS number</th>\n    </tr>\n    <tr>\n      <th># id</th>\n      <th></th>\n      <th></th>\n    </tr>\n  </thead>\n  <tbody>\n    <tr>\n      <th>0</th>\n      <td>jasmone</td>\n      <td>488-10-8</td>\n    </tr>\n    <tr>\n      <th>1</th>\n      <td>5-methylhexanoic_acid</td>\n      <td>628-46-6</td>\n    </tr>\n    <tr>\n      <th>2</th>\n      <td>l-glutamine</td>\n      <td>56-85-9</td>\n    </tr>\n    <tr>\n      <th>3</th>\n      <td>1-methyl-3-methoxy-4-isopropylbenzene</td>\n      <td>1076-56-8</td>\n    </tr>\n    <tr>\n      <th>4</th>\n      <td>methyl-3-phenylpropionate</td>\n      <td>103-25-3</td>\n    </tr>\n  </tbody>\n</table>\n</div>"
     },
     "metadata": {},
     "output_type": "execute_result",
     "execution_count": 18
    }
   ],
   "source": [
    "# View a sample of each table\n",
    "comp_info.head()"
   ],
   "metadata": {
    "collapsed": false,
    "pycharm": {
     "name": "#%%\n",
     "is_executing": false
    }
   }
  },
  {
   "cell_type": "code",
   "execution_count": 19,
   "outputs": [
    {
     "data": {
      "text/plain": "                 ingredient name          category\n# id                                              \n0             magnolia_tripetala            flower\n1      calyptranthes_parriculata             plant\n2     chamaecyparis_pisifera_oil  plant derivative\n3                       mackerel      fish/seafood\n4         mimusops_elengi_flower            flower",
      "text/html": "<div>\n<style scoped>\n    .dataframe tbody tr th:only-of-type {\n        vertical-align: middle;\n    }\n\n    .dataframe tbody tr th {\n        vertical-align: top;\n    }\n\n    .dataframe thead th {\n        text-align: right;\n    }\n</style>\n<table border=\"1\" class=\"dataframe\">\n  <thead>\n    <tr style=\"text-align: right;\">\n      <th></th>\n      <th>ingredient name</th>\n      <th>category</th>\n    </tr>\n    <tr>\n      <th># id</th>\n      <th></th>\n      <th></th>\n    </tr>\n  </thead>\n  <tbody>\n    <tr>\n      <th>0</th>\n      <td>magnolia_tripetala</td>\n      <td>flower</td>\n    </tr>\n    <tr>\n      <th>1</th>\n      <td>calyptranthes_parriculata</td>\n      <td>plant</td>\n    </tr>\n    <tr>\n      <th>2</th>\n      <td>chamaecyparis_pisifera_oil</td>\n      <td>plant derivative</td>\n    </tr>\n    <tr>\n      <th>3</th>\n      <td>mackerel</td>\n      <td>fish/seafood</td>\n    </tr>\n    <tr>\n      <th>4</th>\n      <td>mimusops_elengi_flower</td>\n      <td>flower</td>\n    </tr>\n  </tbody>\n</table>\n</div>"
     },
     "metadata": {},
     "output_type": "execute_result",
     "execution_count": 19
    }
   ],
   "source": [
    "ingr_info.head()"
   ],
   "metadata": {
    "collapsed": false,
    "pycharm": {
     "name": "#%%\n",
     "is_executing": false
    }
   }
  },
  {
   "cell_type": "code",
   "execution_count": 20,
   "outputs": [
    {
     "data": {
      "text/plain": "   # ingredient id  compound id\n0             1392          906\n1             1259          861\n2             1079          673\n3               22          906\n4              103          906",
      "text/html": "<div>\n<style scoped>\n    .dataframe tbody tr th:only-of-type {\n        vertical-align: middle;\n    }\n\n    .dataframe tbody tr th {\n        vertical-align: top;\n    }\n\n    .dataframe thead th {\n        text-align: right;\n    }\n</style>\n<table border=\"1\" class=\"dataframe\">\n  <thead>\n    <tr style=\"text-align: right;\">\n      <th></th>\n      <th># ingredient id</th>\n      <th>compound id</th>\n    </tr>\n  </thead>\n  <tbody>\n    <tr>\n      <th>0</th>\n      <td>1392</td>\n      <td>906</td>\n    </tr>\n    <tr>\n      <th>1</th>\n      <td>1259</td>\n      <td>861</td>\n    </tr>\n    <tr>\n      <th>2</th>\n      <td>1079</td>\n      <td>673</td>\n    </tr>\n    <tr>\n      <th>3</th>\n      <td>22</td>\n      <td>906</td>\n    </tr>\n    <tr>\n      <th>4</th>\n      <td>103</td>\n      <td>906</td>\n    </tr>\n  </tbody>\n</table>\n</div>"
     },
     "metadata": {},
     "output_type": "execute_result",
     "execution_count": 20
    }
   ],
   "source": [
    "ingr_comp.head()"
   ],
   "metadata": {
    "collapsed": false,
    "pycharm": {
     "name": "#%%\n",
     "is_executing": false
    }
   }
  },
  {
   "cell_type": "markdown",
   "source": [
    "## Number of ingredients\n"
   ],
   "metadata": {
    "collapsed": false,
    "pycharm": {
     "name": "#%% md\n"
    }
   }
  },
  {
   "cell_type": "code",
   "execution_count": 21,
   "outputs": [
    {
     "name": "stdout",
     "text": [
      "The number of ingredients are 1530\nThe number of ingredients appearing in the ingr_comp pairings are 1525\nThere are 5 ingredients not appearing in the ingr_comp table. These are ['estragon_oil' 'japanese_hop_oil' 'sesame_seed_oil' 'abies_sibirica_oil'\n 'bitter_almond_oil']\n"
     ],
     "output_type": "stream"
    }
   ],
   "source": [
    "num_unique_ings = ingr_comp['# ingredient id'].nunique()\n",
    "print(\"The number of ingredients are {}\".format(len(ingr_info)))\n",
    "print(\"The number of ingredients appearing in the ingr_comp pairings are {}\".format(num_unique_ings))\n",
    "ing_ingr_comp = pd.merge(ingr_info, ingr_comp,left_index=True, right_on='# ingredient id',how=\"outer\",indicator=True)\n",
    "not_joined_ings = ing_ingr_comp[ing_ingr_comp['_merge']=='left_only']\n",
    "not_joined_ings_names = not_joined_ings['ingredient name'].values\n",
    "if num_unique_ings != len(ingr_info):\n",
    "    print(\"There are {} ingredients not appearing in the ingr_comp table. These are {}\".format(len(ingr_info)-num_unique_ings, not_joined_ings_names))\n"
   ],
   "metadata": {
    "collapsed": false,
    "pycharm": {
     "name": "#%%\n",
     "is_executing": false
    }
   }
  },
  {
   "cell_type": "markdown",
   "source": [
    "## Number of unique compounds\n",
    "\n"
   ],
   "metadata": {
    "collapsed": false
   }
  },
  {
   "cell_type": "code",
   "execution_count": 22,
   "outputs": [
    {
     "name": "stdout",
     "text": [
      "The number of compounds are 1107\nThe number of ingredients appearing in the ingr_comp pairings are 1107\n"
     ],
     "output_type": "stream"
    }
   ],
   "source": [
    "num_unique_comps = ingr_comp['compound id'].nunique()\n",
    "print(\"The number of compounds are {}\".format(len(comp_info)))\n",
    "print(\"The number of ingredients appearing in the ingr_comp pairings are {}\".format(num_unique_comps))\n",
    "comp_ingr_comp = pd.merge(comp_info, ingr_comp,left_index=True, right_on='compound id',how=\"outer\",indicator=True)\n",
    "not_joined_comps = comp_ingr_comp[comp_ingr_comp['_merge']=='left_only']\n",
    "not_joined_comps_names = not_joined_comps['Compound name'].values\n",
    "if num_unique_comps != len(comp_info):\n",
    "    print(\"There are {} compounds not appearing in the ingr_comp table. These are {}\".format(num_unique_comps, not_joined_comps_names))"
   ],
   "metadata": {
    "collapsed": false,
    "pycharm": {
     "name": "#%%\n",
     "is_executing": false
    }
   }
  },
  {
   "cell_type": "markdown",
   "source": [
    "## Histogram of the number of compounds per ingredient\n"
   ],
   "metadata": {
    "collapsed": false
   }
  },
  {
   "cell_type": "code",
   "execution_count": 23,
   "outputs": [
    {
     "data": {
      "text/plain": "      Comp Counts    ingredient name            category\n905           239          black_tea    plant derivative\n628           234             coffee    plant derivative\n504           230         bantu_beer  alcoholic beverage\n1490          227               beer  alcoholic beverage\n1423          222         white_wine  alcoholic beverage\n359           217       grilled_beef                meat\n257           216       roasted_beef                meat\n622           206        boiled_beef                meat\n955           204         fried_beef                meat\n247           199               beef                meat\n855           199           raw_beef                meat\n932           198  roasted_green_tea    plant derivative\n1522          197          green_tea    plant derivative\n1375          197      roasted_cocoa    plant derivative\n714           196         strawberry               fruit\n1070          196       cooked_apple               fruit\n1193          195              apple               fruit\n1483          193              cocoa    plant derivative\n313           184             cognac  alcoholic beverage\n252           183      fermented_tea    plant derivative\n1291          182        rooibus_tea    plant derivative\n1396          178    parmesan_cheese               dairy\n620           178       jamaican_rum  alcoholic beverage\n1086          175                rum  alcoholic beverage\n143           174         ceylon_tea    plant derivative",
      "text/html": "<div>\n<style scoped>\n    .dataframe tbody tr th:only-of-type {\n        vertical-align: middle;\n    }\n\n    .dataframe tbody tr th {\n        vertical-align: top;\n    }\n\n    .dataframe thead th {\n        text-align: right;\n    }\n</style>\n<table border=\"1\" class=\"dataframe\">\n  <thead>\n    <tr style=\"text-align: right;\">\n      <th></th>\n      <th>Comp Counts</th>\n      <th>ingredient name</th>\n      <th>category</th>\n    </tr>\n  </thead>\n  <tbody>\n    <tr>\n      <th>905</th>\n      <td>239</td>\n      <td>black_tea</td>\n      <td>plant derivative</td>\n    </tr>\n    <tr>\n      <th>628</th>\n      <td>234</td>\n      <td>coffee</td>\n      <td>plant derivative</td>\n    </tr>\n    <tr>\n      <th>504</th>\n      <td>230</td>\n      <td>bantu_beer</td>\n      <td>alcoholic beverage</td>\n    </tr>\n    <tr>\n      <th>1490</th>\n      <td>227</td>\n      <td>beer</td>\n      <td>alcoholic beverage</td>\n    </tr>\n    <tr>\n      <th>1423</th>\n      <td>222</td>\n      <td>white_wine</td>\n      <td>alcoholic beverage</td>\n    </tr>\n    <tr>\n      <th>359</th>\n      <td>217</td>\n      <td>grilled_beef</td>\n      <td>meat</td>\n    </tr>\n    <tr>\n      <th>257</th>\n      <td>216</td>\n      <td>roasted_beef</td>\n      <td>meat</td>\n    </tr>\n    <tr>\n      <th>622</th>\n      <td>206</td>\n      <td>boiled_beef</td>\n      <td>meat</td>\n    </tr>\n    <tr>\n      <th>955</th>\n      <td>204</td>\n      <td>fried_beef</td>\n      <td>meat</td>\n    </tr>\n    <tr>\n      <th>247</th>\n      <td>199</td>\n      <td>beef</td>\n      <td>meat</td>\n    </tr>\n    <tr>\n      <th>855</th>\n      <td>199</td>\n      <td>raw_beef</td>\n      <td>meat</td>\n    </tr>\n    <tr>\n      <th>932</th>\n      <td>198</td>\n      <td>roasted_green_tea</td>\n      <td>plant derivative</td>\n    </tr>\n    <tr>\n      <th>1522</th>\n      <td>197</td>\n      <td>green_tea</td>\n      <td>plant derivative</td>\n    </tr>\n    <tr>\n      <th>1375</th>\n      <td>197</td>\n      <td>roasted_cocoa</td>\n      <td>plant derivative</td>\n    </tr>\n    <tr>\n      <th>714</th>\n      <td>196</td>\n      <td>strawberry</td>\n      <td>fruit</td>\n    </tr>\n    <tr>\n      <th>1070</th>\n      <td>196</td>\n      <td>cooked_apple</td>\n      <td>fruit</td>\n    </tr>\n    <tr>\n      <th>1193</th>\n      <td>195</td>\n      <td>apple</td>\n      <td>fruit</td>\n    </tr>\n    <tr>\n      <th>1483</th>\n      <td>193</td>\n      <td>cocoa</td>\n      <td>plant derivative</td>\n    </tr>\n    <tr>\n      <th>313</th>\n      <td>184</td>\n      <td>cognac</td>\n      <td>alcoholic beverage</td>\n    </tr>\n    <tr>\n      <th>252</th>\n      <td>183</td>\n      <td>fermented_tea</td>\n      <td>plant derivative</td>\n    </tr>\n    <tr>\n      <th>1291</th>\n      <td>182</td>\n      <td>rooibus_tea</td>\n      <td>plant derivative</td>\n    </tr>\n    <tr>\n      <th>1396</th>\n      <td>178</td>\n      <td>parmesan_cheese</td>\n      <td>dairy</td>\n    </tr>\n    <tr>\n      <th>620</th>\n      <td>178</td>\n      <td>jamaican_rum</td>\n      <td>alcoholic beverage</td>\n    </tr>\n    <tr>\n      <th>1086</th>\n      <td>175</td>\n      <td>rum</td>\n      <td>alcoholic beverage</td>\n    </tr>\n    <tr>\n      <th>143</th>\n      <td>174</td>\n      <td>ceylon_tea</td>\n      <td>plant derivative</td>\n    </tr>\n  </tbody>\n</table>\n</div>"
     },
     "metadata": {},
     "output_type": "execute_result",
     "execution_count": 23
    }
   ],
   "source": [
    "ingr_comp['Comp Counts'] = ingr_comp.groupby(['# ingredient id']).transform('count')\n",
    "ing_comp_group = ingr_comp.groupby(['# ingredient id'], as_index=False).first()\n",
    "ing_comp_group.drop(columns=['compound id'], inplace=True)\n",
    "\n",
    "comp_value_counts = pd.merge(ing_comp_group, ingr_info, left_on='# ingredient id', right_index=True)\n",
    "comp_value_counts.drop(columns=['# ingredient id'], inplace=True)\n",
    "comp_value_counts.sort_values(by='Comp Counts', ascending=False, inplace=True)\n",
    "comp_value_counts.head(25)"
   ],
   "metadata": {
    "collapsed": false,
    "pycharm": {
     "name": "#%%\n",
     "is_executing": false
    }
   }
  },
  {
   "cell_type": "code",
   "execution_count": 24,
   "outputs": [
    {
     "data": {
      "text/plain": "Text(0, 0.5, 'Number of ingredients')"
     },
     "metadata": {},
     "output_type": "execute_result",
     "execution_count": 24
    },
    {
     "data": {
      "text/plain": "<Figure size 432x288 with 1 Axes>",
      "image/png": "[encoded data removed]"
     },
     "metadata": {
      "needs_background": "light"
     },
     "output_type": "display_data"
    }
   ],
   "source": [
    "comp_value_counts = ing_comp_group['Comp Counts'].value_counts(bins=15)\n",
    "ax = comp_value_counts.plot(kind='bar', title='Number of compounds per ingredient')\n",
    "ax.set_xlabel('Number of compounds /bin')\n",
    "ax.set_ylabel('Number of ingredients')"
   ],
   "metadata": {
    "collapsed": false,
    "pycharm": {
     "name": "#%%\n",
     "is_executing": false
    }
   }
  },
  {
   "cell_type": "code",
   "execution_count": 26,
   "outputs": [
    {
     "name": "stdout",
     "text": [
      "The average (mean) number of flavour compounds per ingredient is 24.118688524590166\nThe average (median) number of flavour compounds per ingredient is 2.0\n"
     ],
     "output_type": "stream"
    }
   ],
   "source": [
    "print(\"The average (mean) number of flavour compounds per ingredient is {}\".format(ing_comp_group['Comp Counts'].mean()))\n",
    "print(\"The average (median) number of flavour compounds per ingredient is {}\".format(ing_comp_group['Comp Counts'].median()))"
   ],
   "metadata": {
    "collapsed": false,
    "pycharm": {
     "name": "#%%\n",
     "is_executing": false
    }
   }
  }
 ],
 "metadata": {
  "kernelspec": {
   "display_name": "Python 3",
   "language": "python",
   "name": "python3"
  },
  "language_info": {
   "codemirror_mode": {
    "name": "ipython",
    "version": 2
   },
   "file_extension": ".py",
   "mimetype": "text/x-python",
   "name": "python",
   "nbconvert_exporter": "python",
   "pygments_lexer": "ipython2",
   "version": "2.7.6"
  },
  "pycharm": {
   "stem_cell": {
    "cell_type": "raw",
    "source": [],
    "metadata": {
     "collapsed": false
    }
   }
  }
 },
 "nbformat": 4,
 "nbformat_minor": 0
}