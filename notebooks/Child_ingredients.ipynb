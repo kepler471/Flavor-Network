{
 "cells": [
  {
   "cell_type": "markdown",
   "metadata": {
    "collapsed": true,
    "pycharm": {
     "name": "#%% md\n"
    }
   },
   "source": [
    "## Child Ingredients\n",
    "\n",
    "In this notebook I want to explore if there is any meaningful relationship between 'parent' and 'child' ingredients \n",
    "where a 'child' ingredient contains a subset of the 'parents' flavour compounds"
   ]
  },
  {
   "cell_type": "code",
   "execution_count": 22,
   "outputs": [],
   "source": [
    "from itertools import product\n",
    "from utils import load_ingr_comps\n",
    "import os\n",
    "import networkx as nx\n",
    "from networkx.drawing.nx_pydot import graphviz_layout\n",
    "\n",
    "import matplotlib.pyplot as plt"
   ],
   "metadata": {
    "collapsed": false,
    "pycharm": {
     "name": "#%%\n",
     "is_executing": false
    }
   }
  },
  {
   "cell_type": "code",
   "execution_count": 2,
   "outputs": [],
   "source": [
    "# Load in the data\n",
    "comp_info, ingr_info, ingr_comp = load_ingr_comps()"
   ],
   "metadata": {
    "collapsed": false,
    "pycharm": {
     "name": "#%%\n",
     "is_executing": false
    }
   }
  },
  {
   "cell_type": "markdown",
   "source": [
    "First I want to group by ingredient in the pairings table. This will then give a list of the compound ids for each\n",
    " ingredient id\n",
    " "
   ],
   "metadata": {
    "collapsed": false
   }
  },
  {
   "cell_type": "code",
   "execution_count": 3,
   "outputs": [
    {
     "name": "stdout",
     "text": [
      "0\n",
      "50\n",
      "100\n",
      "150\n",
      "200\n",
      "250\n",
      "300\n",
      "350\n",
      "400\n",
      "450\n",
      "500\n",
      "550\n",
      "600\n",
      "650\n",
      "700\n",
      "750\n",
      "800\n",
      "850\n",
      "900\n",
      "950\n",
      "1000\n",
      "1050\n",
      "1100\n",
      "1150\n",
      "1200\n",
      "1250\n",
      "1300\n",
      "1350\n",
      "1400\n",
      "1450\n",
      "1500\n"
     ],
     "output_type": "stream"
    }
   ],
   "source": [
    "comps_per_ingr = ingr_comp.groupby('# ingredient id')['compound id'].apply(set).to_frame()\n",
    "comps_per_ingr['child_ing_names'] = [{} for i in range(len(comps_per_ingr))]\n",
    "comps_per_ingr['child_ing_ids'] = [{} for i in range(len(comps_per_ingr))]\n",
    "comps_per_ingr = comps_per_ingr.merge(ingr_info, left_index=True, right_index=True)\n",
    "i = 0\n",
    "for ing, row in comps_per_ingr.iterrows():\n",
    "    if not i % 50:\n",
    "        print(i)\n",
    "    i+=1\n",
    "    for ing2, row2 in comps_per_ingr.iterrows():\n",
    "        if row['compound id'].issubset(row2['compound id']) and ing != ing2:\n",
    "            comps_per_ingr.loc[ing2, 'child_ing_names'][row['ingredient name']] = len(row['compound id'])\n",
    "            comps_per_ingr.loc[ing2, 'child_ing_ids'][ing] = len(row['compound id'])"
   ],
   "metadata": {
    "collapsed": false,
    "pycharm": {
     "name": "#%%\n",
     "is_executing": false
    }
   }
  },
  {
   "cell_type": "code",
   "execution_count": 4,
   "outputs": [],
   "source": [
    "# Sort each field in descending order by the number of compounds so that the most complet ingredients are displayed first\n",
    "comps_per_ingr['child_ing_names'] = comps_per_ingr['child_ing_names'].apply(lambda x: sorted(x, key=x.get, reverse=True))\n",
    "comps_per_ingr['child_ing_ids'] = comps_per_ingr['child_ing_ids'].apply(lambda x: sorted(x, key=x.get, reverse=True))"
   ],
   "metadata": {
    "collapsed": false,
    "pycharm": {
     "name": "#%%\n",
     "is_executing": false
    }
   }
  },
  {
   "cell_type": "code",
   "execution_count": 5,
   "outputs": [
    {
     "data": {
      "text/plain": "                                         compound id  \\\n0                                              {995}   \n1                                              {921}   \n2                                             {1018}   \n3  {769, 1028, 901, 902, 772, 645, 390, 391, 136,...   \n4                                              {964}   \n\n                                     child_ing_names  \\\n0  [polyalthia_canangioides_flower, petasites_fra...   \n1  [lindera_citriodora, leptospermum_liversidgei,...   \n2           [while_thyme_oil, artemisia_frigida_oil]   \n3  [sweetfish, eel, black_seabream, globefish, pi...   \n4                                    [yellow_mombin]   \n\n                                       child_ing_ids  \\\n0                          [146, 244, 349, 410, 440]   \n1                                   [488, 517, 1294]   \n2                                        [541, 1262]   \n3  [264, 328, 366, 741, 1081, 1082, 1354, 1476, 8...   \n4                                              [144]   \n\n              ingredient name          category  \n0          magnolia_tripetala            flower  \n1   calyptranthes_parriculata             plant  \n2  chamaecyparis_pisifera_oil  plant derivative  \n3                    mackerel      fish/seafood  \n4      mimusops_elengi_flower            flower  ",
      "text/html": "<div>\n<style scoped>\n    .dataframe tbody tr th:only-of-type {\n        vertical-align: middle;\n    }\n\n    .dataframe tbody tr th {\n        vertical-align: top;\n    }\n\n    .dataframe thead th {\n        text-align: right;\n    }\n</style>\n<table border=\"1\" class=\"dataframe\">\n  <thead>\n    <tr style=\"text-align: right;\">\n      <th></th>\n      <th>compound id</th>\n      <th>child_ing_names</th>\n      <th>child_ing_ids</th>\n      <th>ingredient name</th>\n      <th>category</th>\n    </tr>\n  </thead>\n  <tbody>\n    <tr>\n      <th>0</th>\n      <td>{995}</td>\n      <td>[polyalthia_canangioides_flower, petasites_fra...</td>\n      <td>[146, 244, 349, 410, 440]</td>\n      <td>magnolia_tripetala</td>\n      <td>flower</td>\n    </tr>\n    <tr>\n      <th>1</th>\n      <td>{921}</td>\n      <td>[lindera_citriodora, leptospermum_liversidgei,...</td>\n      <td>[488, 517, 1294]</td>\n      <td>calyptranthes_parriculata</td>\n      <td>plant</td>\n    </tr>\n    <tr>\n      <th>2</th>\n      <td>{1018}</td>\n      <td>[while_thyme_oil, artemisia_frigida_oil]</td>\n      <td>[541, 1262]</td>\n      <td>chamaecyparis_pisifera_oil</td>\n      <td>plant derivative</td>\n    </tr>\n    <tr>\n      <th>3</th>\n      <td>{769, 1028, 901, 902, 772, 645, 390, 391, 136,...</td>\n      <td>[sweetfish, eel, black_seabream, globefish, pi...</td>\n      <td>[264, 328, 366, 741, 1081, 1082, 1354, 1476, 8...</td>\n      <td>mackerel</td>\n      <td>fish/seafood</td>\n    </tr>\n    <tr>\n      <th>4</th>\n      <td>{964}</td>\n      <td>[yellow_mombin]</td>\n      <td>[144]</td>\n      <td>mimusops_elengi_flower</td>\n      <td>flower</td>\n    </tr>\n  </tbody>\n</table>\n</div>"
     },
     "metadata": {},
     "output_type": "execute_result",
     "execution_count": 5
    }
   ],
   "source": [
    "# Join the 'child' ingredients onto the ingredients\n",
    "# Save the resulting 'child ingredients'\n",
    "file_dir = os.path.dirname(os.path.abspath(\"\"))\n",
    "data_dir = os.path.join(file_dir, 'data/')\n",
    "filepath = os.path.join(data_dir, 'child_ingrs.csv')\n",
    "comps_per_ingr.to_csv(filepath)\n",
    "comps_per_ingr.head()\n"
   ],
   "metadata": {
    "collapsed": false,
    "pycharm": {
     "name": "#%%\n",
     "is_executing": false
    }
   }
  },
  {
   "cell_type": "markdown",
   "source": [
    "I would now like to build a Directed Tree graph that shows the most simple 'child ingredients' at the bottom and the more \n",
    "complex ones at the top. I can build the graph with networkx but before that some extra filtering is needed to remove unneccesacary connections.\n",
    "\n",
    "E.g. B -> A indicates a child -> parent relationship. If B -> A and C -> B then it implies that C -> A. However because this is implied\n",
    "in the graph I want to remove these connections so that it is easier to identify and useful structure.\n",
    "\n",
    "A sibling ingredient can be defined as A -> B and B -> A or as having the same flavour compounds. These connections should stay."
   ],
   "metadata": {
    "collapsed": false,
    "pycharm": {
     "name": "#%% md\n"
    }
   }
  },
  {
   "cell_type": "code",
   "execution_count": 8,
   "outputs": [
    {
     "name": "stdout",
     "text": [
      "0\n",
      "50\n",
      "100\n",
      "150\n",
      "200\n",
      "250\n",
      "300\n",
      "350\n",
      "400\n",
      "450\n",
      "500\n",
      "550\n",
      "600\n",
      "650\n",
      "700\n",
      "750\n",
      "800\n",
      "850\n",
      "900\n",
      "950\n",
      "1000\n",
      "1050\n",
      "1100\n",
      "1150\n",
      "1200\n",
      "1250\n",
      "1300\n",
      "1350\n",
      "1400\n",
      "1450\n",
      "1500\n"
     ],
     "output_type": "stream"
    }
   ],
   "source": [
    "def is_child(child1, child2, pruned_comps_per_ingr): \n",
    "    if child1 in pruned_comps_per_ingr.loc[child2, 'child_ing_ids']:\n",
    "        return True\n",
    "    else:\n",
    "        return False\n",
    "\n",
    "def is_sibling(child1, child2, pruned_comps_per_ingr):\n",
    "    if pruned_comps_per_ingr.loc[child1, 'compound id'] == pruned_comps_per_ingr.loc[child2, 'compound id']:\n",
    "        return True\n",
    "    else:\n",
    "        return False\n",
    "\n",
    "# Add a 'Root' node to start the tree and aid the visualisation this root contains all of the ingredients as child ingredients (which will then be pruned)\n",
    "comps_per_ingr.loc[-1] = [{}, [], list(comps_per_ingr.index.values), '', '']\n",
    "try:\n",
    "    comps_per_ingr.loc[-1, 'child_ing_ids'].remove(-1)\n",
    "except ValueError:\n",
    "    pass\n",
    "    \n",
    "pruned_comps_per_ingr = comps_per_ingr.copy()\n",
    "\n",
    "i = 0\n",
    "for ing, row in pruned_comps_per_ingr.iterrows():\n",
    "    if not i % 50:\n",
    "        print(i)\n",
    "    i+=1\n",
    "    for child1, child2 in product(row['child_ing_ids'], row['child_ing_ids']):\n",
    "        if child1 == child2:\n",
    "            continue\n",
    "        if is_child(child1, child2, comps_per_ingr) and not is_sibling(child1, child2, comps_per_ingr):\n",
    "            try:\n",
    "                row['child_ing_ids'].remove(child1)\n",
    "                need_to_continue = True\n",
    "            except ValueError:\n",
    "                continue\n",
    "\n",
    "\n",
    "                \n",
    "                "
   ],
   "metadata": {
    "collapsed": false,
    "pycharm": {
     "name": "#%%\n",
     "is_executing": false
    }
   }
  },
  {
   "cell_type": "code",
   "execution_count": 9,
   "outputs": [
    {
     "data": {
      "text/plain": "                                         compound id  \\\n0                                              {995}   \n1                                              {921}   \n2                                             {1018}   \n3  {769, 1028, 901, 902, 772, 645, 390, 391, 136,...   \n4                                              {964}   \n\n                                     child_ing_names  \\\n0  [polyalthia_canangioides_flower, petasites_fra...   \n1  [lindera_citriodora, leptospermum_liversidgei,...   \n2           [while_thyme_oil, artemisia_frigida_oil]   \n3  [sweetfish, eel, black_seabream, globefish, pi...   \n4                                    [yellow_mombin]   \n\n                                  child_ing_ids             ingredient name  \\\n0                     [146, 244, 349, 410, 440]          magnolia_tripetala   \n1                              [488, 517, 1294]   calyptranthes_parriculata   \n2                                   [541, 1262]  chamaecyparis_pisifera_oil   \n3  [264, 328, 366, 741, 1081, 1082, 1354, 1476]                    mackerel   \n4                                         [144]      mimusops_elengi_flower   \n\n           category  \n0            flower  \n1             plant  \n2  plant derivative  \n3      fish/seafood  \n4            flower  ",
      "text/html": "<div>\n<style scoped>\n    .dataframe tbody tr th:only-of-type {\n        vertical-align: middle;\n    }\n\n    .dataframe tbody tr th {\n        vertical-align: top;\n    }\n\n    .dataframe thead th {\n        text-align: right;\n    }\n</style>\n<table border=\"1\" class=\"dataframe\">\n  <thead>\n    <tr style=\"text-align: right;\">\n      <th></th>\n      <th>compound id</th>\n      <th>child_ing_names</th>\n      <th>child_ing_ids</th>\n      <th>ingredient name</th>\n      <th>category</th>\n    </tr>\n  </thead>\n  <tbody>\n    <tr>\n      <th>0</th>\n      <td>{995}</td>\n      <td>[polyalthia_canangioides_flower, petasites_fra...</td>\n      <td>[146, 244, 349, 410, 440]</td>\n      <td>magnolia_tripetala</td>\n      <td>flower</td>\n    </tr>\n    <tr>\n      <th>1</th>\n      <td>{921}</td>\n      <td>[lindera_citriodora, leptospermum_liversidgei,...</td>\n      <td>[488, 517, 1294]</td>\n      <td>calyptranthes_parriculata</td>\n      <td>plant</td>\n    </tr>\n    <tr>\n      <th>2</th>\n      <td>{1018}</td>\n      <td>[while_thyme_oil, artemisia_frigida_oil]</td>\n      <td>[541, 1262]</td>\n      <td>chamaecyparis_pisifera_oil</td>\n      <td>plant derivative</td>\n    </tr>\n    <tr>\n      <th>3</th>\n      <td>{769, 1028, 901, 902, 772, 645, 390, 391, 136,...</td>\n      <td>[sweetfish, eel, black_seabream, globefish, pi...</td>\n      <td>[264, 328, 366, 741, 1081, 1082, 1354, 1476]</td>\n      <td>mackerel</td>\n      <td>fish/seafood</td>\n    </tr>\n    <tr>\n      <th>4</th>\n      <td>{964}</td>\n      <td>[yellow_mombin]</td>\n      <td>[144]</td>\n      <td>mimusops_elengi_flower</td>\n      <td>flower</td>\n    </tr>\n  </tbody>\n</table>\n</div>"
     },
     "metadata": {},
     "output_type": "execute_result",
     "execution_count": 9
    }
   ],
   "source": [
    "            \n",
    "filepath = os.path.join(data_dir, 'child_ingrs_pruned.csv')\n",
    "comps_per_ingr.to_csv(filepath)\n",
    "comps_per_ingr.head()"
   ],
   "metadata": {
    "collapsed": false,
    "pycharm": {
     "name": "#%%\n",
     "is_executing": false
    }
   }
  },
  {
   "cell_type": "code",
   "execution_count": 32,
   "outputs": [],
   "source": [
    "G = nx.DiGraph()\n",
    "\n",
    "for ing, row in pruned_comps_per_ingr.iterrows():\n",
    "    if row['ingredient name'] != '':\n",
    "        G.add_node(row['ingredient name'])\n",
    "\n",
    "\n",
    "for ing, row in pruned_comps_per_ingr.iterrows():\n",
    "    for child_ing in row['child_ing_ids']:\n",
    "        child_ing_name = pruned_comps_per_ingr.loc[child_ing, 'ingredient name']\n",
    "    if row['ingredient name'] != '' and child_ing_name != '':\n",
    "        G.add_edge(row['ingredient name'], child_ing_name)\n",
    "            \n",
    "            \n",
    "\n",
    "\n",
    "\n"
   ],
   "metadata": {
    "collapsed": false,
    "pycharm": {
     "name": "#%%\n",
     "is_executing": false
    }
   }
  },
  {
   "cell_type": "code",
   "execution_count": 33,
   "outputs": [],
   "source": [
    "filepath = 'child_ingrs_plot.dot'\n",
    "nx.nx_pydot.write_dot(G,filepath)\n",
    "# same layout using matplotlib with no labels"
   ],
   "metadata": {
    "collapsed": false,
    "pycharm": {
     "name": "#%%\n",
     "is_executing": false
    }
   }
  },
  {
   "cell_type": "code",
   "execution_count": 58,
   "outputs": [
    {
     "data": {
      "text/plain": "<Figure size 432x288 with 1 Axes>",
      "image/png": "[encoded data removed]"
     },
     "metadata": {
      "needs_background": "light"
     },
     "output_type": "display_data"
    }
   ],
   "source": [
    "plt.title('Child Ingredients')\n",
    "pos=graphviz_layout(G, prog='fdp')\n",
    "plt.figure(figsize=(50, 50))\n",
    "nx.draw(G, pos, with_labels=True, arrows=False)\n",
    "plt.savefig('child_ingrs_plot.png')"
   ],
   "metadata": {
    "collapsed": false,
    "pycharm": {
     "name": "#%%\n",
     "is_executing": false
    }
   }
  },
  {
   "cell_type": "code",
   "execution_count": 45,
   "outputs": [
    {
     "traceback": [
      "\u001b[0;31m---------------------------------------------------------------------------\u001b[0m",
      "\u001b[0;31mValueError\u001b[0m                                Traceback (most recent call last)",
      "\u001b[0;32m<ipython-input-45-3ec6d85ee7c2>\u001b[0m in \u001b[0;36m<module>\u001b[0;34m\u001b[0m\n\u001b[0;32m----> 1\u001b[0;31m \u001b[0;32mraise\u001b[0m \u001b[0mValueError\u001b[0m\u001b[0;34m\u001b[0m\u001b[0;34m\u001b[0m\u001b[0m\n\u001b[0m\u001b[1;32m      2\u001b[0m \u001b[0mplt\u001b[0m\u001b[0;34m.\u001b[0m\u001b[0mtitle\u001b[0m\u001b[0;34m(\u001b[0m\u001b[0;34m'Child Ingredients'\u001b[0m\u001b[0;34m)\u001b[0m\u001b[0;34m\u001b[0m\u001b[0;34m\u001b[0m\u001b[0m\n\u001b[1;32m      3\u001b[0m \u001b[0mpos\u001b[0m\u001b[0;34m=\u001b[0m\u001b[0mgraphviz_layout\u001b[0m\u001b[0;34m(\u001b[0m\u001b[0mG\u001b[0m\u001b[0;34m,\u001b[0m \u001b[0mprog\u001b[0m\u001b[0;34m=\u001b[0m\u001b[0;34m'twopi'\u001b[0m\u001b[0;34m)\u001b[0m\u001b[0;34m\u001b[0m\u001b[0;34m\u001b[0m\u001b[0m\n\u001b[1;32m      4\u001b[0m \u001b[0mplt\u001b[0m\u001b[0;34m.\u001b[0m\u001b[0mfigure\u001b[0m\u001b[0;34m(\u001b[0m\u001b[0mfigsize\u001b[0m\u001b[0;34m=\u001b[0m\u001b[0;34m(\u001b[0m\u001b[0;36m50\u001b[0m\u001b[0;34m,\u001b[0m \u001b[0;36m50\u001b[0m\u001b[0;34m)\u001b[0m\u001b[0;34m)\u001b[0m\u001b[0;34m\u001b[0m\u001b[0;34m\u001b[0m\u001b[0m\n\u001b[1;32m      5\u001b[0m \u001b[0mnx\u001b[0m\u001b[0;34m.\u001b[0m\u001b[0mdraw\u001b[0m\u001b[0;34m(\u001b[0m\u001b[0mG\u001b[0m\u001b[0;34m,\u001b[0m \u001b[0mpos\u001b[0m\u001b[0;34m,\u001b[0m \u001b[0mwith_labels\u001b[0m\u001b[0;34m=\u001b[0m\u001b[0;32mTrue\u001b[0m\u001b[0;34m,\u001b[0m \u001b[0marrows\u001b[0m\u001b[0;34m=\u001b[0m\u001b[0;32mFalse\u001b[0m\u001b[0;34m)\u001b[0m\u001b[0;34m\u001b[0m\u001b[0;34m\u001b[0m\u001b[0m\n",
      "\u001b[0;31mValueError\u001b[0m: "
     ],
     "ename": "ValueError",
     "evalue": "",
     "output_type": "error"
    }
   ],
   "source": [
    "raise ValueError\n",
    "plt.title('Child Ingredients')\n",
    "pos=graphviz_layout(G, prog='twopi')\n",
    "plt.figure(figsize=(50, 50))\n",
    "nx.draw(G, pos, with_labels=True, arrows=False)\n",
    "plt.savefig('child_ingrs_plot_circular.png')"
   ],
   "metadata": {
    "collapsed": false,
    "pycharm": {
     "name": "#%%\n",
     "is_executing": false
    }
   }
  }
 ],
 "metadata": {
  "kernelspec": {
   "display_name": "Python 3",
   "language": "python",
   "name": "python3"
  },
  "language_info": {
   "codemirror_mode": {
    "name": "ipython",
    "version": 2
   },
   "file_extension": ".py",
   "mimetype": "text/x-python",
   "name": "python",
   "nbconvert_exporter": "python",
   "pygments_lexer": "ipython2",
   "version": "2.7.6"
  },
  "pycharm": {
   "stem_cell": {
    "cell_type": "raw",
    "source": [],
    "metadata": {
     "collapsed": false
    }
   }
  }
 },
 "nbformat": 4,
 "nbformat_minor": 0
}